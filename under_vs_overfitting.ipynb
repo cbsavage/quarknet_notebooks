{
 "cells": [
  {
   "cell_type": "code",
   "execution_count": null,
   "id": "9c5b7235-5779-4761-944b-2e6243c109b4",
   "metadata": {},
   "outputs": [],
   "source": [
    "# Cat Savage\n",
    "# Underfitting Vs. Overfitting"
   ]
  },
  {
   "cell_type": "code",
   "execution_count": null,
   "id": "acd06507-df1a-46a3-80a9-3cb1eb557e1e",
   "metadata": {},
   "outputs": [],
   "source": []
  },
  {
   "cell_type": "code",
   "execution_count": 1,
   "id": "56bf861f-1f08-4a83-ad52-07b14d53250b",
   "metadata": {},
   "outputs": [],
   "source": [
    "import numpy as np\n",
    "import pandas as pd\n",
    "import matplotlib.pyplot as plt\n",
    "\n",
    "from scipy.optimize import curve_fit"
   ]
  },
  {
   "cell_type": "code",
   "execution_count": null,
   "id": "09195a05-7dd9-42c7-bffb-5a7ab4eaae96",
   "metadata": {},
   "outputs": [],
   "source": []
  },
  {
   "cell_type": "code",
   "execution_count": null,
   "id": "91185718-1b42-4d48-a87d-83b23bb59a6c",
   "metadata": {},
   "outputs": [],
   "source": []
  },
  {
   "cell_type": "code",
   "execution_count": null,
   "id": "7506ad89-4d0c-4330-9f75-0c2b3631723d",
   "metadata": {},
   "outputs": [],
   "source": [
    "# STRATA-2P Experiment\n",
    "# Temperature of lunar regolith simulant\n",
    "# courtesy of UCF Physics Associate Professor Dr. Addie Dove"
   ]
  },
  {
   "cell_type": "code",
   "execution_count": 5,
   "id": "74be712a-5209-4d78-bcc3-73a230b54847",
   "metadata": {},
   "outputs": [],
   "source": [
    "strata_2p = pd.read_csv( 'https://github.com/adamlamee/UCF_labs/raw/main/data/STRATA-2P_cooling.csv' )"
   ]
  },
  {
   "cell_type": "code",
   "execution_count": null,
   "id": "fb191aea-e120-48d3-818f-ae10ad669f3b",
   "metadata": {},
   "outputs": [],
   "source": []
  },
  {
   "cell_type": "code",
   "execution_count": null,
   "id": "6f967467",
   "metadata": {},
   "outputs": [],
   "source": []
  },
  {
   "cell_type": "code",
   "execution_count": 7,
   "id": "bdfd8e6c-9b7b-4d0c-8eca-49918003e1dd",
   "metadata": {},
   "outputs": [],
   "source": [
    "strata2p_tr  = strata_2p[ strata_2p.index % 5 == 0 ]\n",
    "strata2p_tst = strata_2p[ strata_2p.index % 5 != 0 ]"
   ]
  },
  {
   "cell_type": "code",
   "execution_count": null,
   "id": "69d0a264-f60b-400e-8302-06799261a603",
   "metadata": {},
   "outputs": [],
   "source": []
  },
  {
   "cell_type": "code",
   "execution_count": null,
   "id": "713837a1-b9be-4498-b54e-fb38549601f4",
   "metadata": {},
   "outputs": [],
   "source": []
  }
 ],
 "metadata": {
  "kernelspec": {
   "display_name": "Python 3 (ipykernel)",
   "language": "python",
   "name": "python3"
  },
  "language_info": {
   "codemirror_mode": {
    "name": "ipython",
    "version": 3
   },
   "file_extension": ".py",
   "mimetype": "text/x-python",
   "name": "python",
   "nbconvert_exporter": "python",
   "pygments_lexer": "ipython3",
   "version": "3.11.5"
  }
 },
 "nbformat": 4,
 "nbformat_minor": 5
}
